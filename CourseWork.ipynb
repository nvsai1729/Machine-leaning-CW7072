{
 "cells": [
  {
   "cell_type": "code",
   "execution_count": 1,
   "id": "vpwOURMO-_zg",
   "metadata": {
    "id": "vpwOURMO-_zg"
   },
   "outputs": [],
   "source": [
    "import pandas as pd\n",
    "import numpy as np\n",
    "import matplotlib.pyplot as plt\n",
    "import seaborn as sns\n",
    "import warnings\n",
    "warnings.filterwarnings(\"ignore\")\n",
    "from sklearn.model_selection import train_test_split\n",
    "from sklearn.preprocessing import StandardScaler\n",
    "from sklearn.decomposition import PCA\n",
    "from sklearn import svm\n",
    "from sklearn.metrics import recall_score, precision_score, confusion_matrix, f1_score, ConfusionMatrixDisplay\n",
    "from sklearn.model_selection import GridSearchCV\n",
    "from sklearn.neighbors import KNeighborsClassifier\n",
    "from sklearn.model_selection import RepeatedStratifiedKFold\n",
    "from sklearn.linear_model import LogisticRegression\n",
    "from sklearn.ensemble import ExtraTreesClassifier\n",
    "from sklearn.tree import DecisionTreeClassifier\n",
    "from sklearn.ensemble import RandomForestClassifier"
   ]
  },
  {
   "cell_type": "code",
   "execution_count": 2,
   "id": "8bWrPZuL-_zi",
   "metadata": {
    "colab": {
     "base_uri": "https://localhost:8080/"
    },
    "id": "8bWrPZuL-_zi",
    "outputId": "27cf7626-ac21-42e2-9771-cc7b0ae64245"
   },
   "outputs": [
    {
     "data": {
      "text/plain": [
       "(41188, 21)"
      ]
     },
     "execution_count": 2,
     "metadata": {},
     "output_type": "execute_result"
    }
   ],
   "source": [
    "bank_data = pd.read_csv('bank-additional-full.csv', sep = ';')\n",
    "bank_data.shape"
   ]
  },
  {
   "cell_type": "code",
   "execution_count": 3,
   "id": "38NW8AuM-_zm",
   "metadata": {
    "colab": {
     "base_uri": "https://localhost:8080/",
     "height": 299
    },
    "id": "38NW8AuM-_zm",
    "outputId": "b3b374b7-2c85-4bd0-f33e-8cf4d1ed1f44"
   },
   "outputs": [
    {
     "data": {
      "text/html": [
       "<div>\n",
       "<style scoped>\n",
       "    .dataframe tbody tr th:only-of-type {\n",
       "        vertical-align: middle;\n",
       "    }\n",
       "\n",
       "    .dataframe tbody tr th {\n",
       "        vertical-align: top;\n",
       "    }\n",
       "\n",
       "    .dataframe thead th {\n",
       "        text-align: right;\n",
       "    }\n",
       "</style>\n",
       "<table border=\"1\" class=\"dataframe\">\n",
       "  <thead>\n",
       "    <tr style=\"text-align: right;\">\n",
       "      <th></th>\n",
       "      <th>age</th>\n",
       "      <th>job</th>\n",
       "      <th>marital</th>\n",
       "      <th>education</th>\n",
       "      <th>default</th>\n",
       "      <th>housing</th>\n",
       "      <th>loan</th>\n",
       "      <th>contact</th>\n",
       "      <th>month</th>\n",
       "      <th>day_of_week</th>\n",
       "      <th>...</th>\n",
       "      <th>campaign</th>\n",
       "      <th>pdays</th>\n",
       "      <th>previous</th>\n",
       "      <th>poutcome</th>\n",
       "      <th>emp.var.rate</th>\n",
       "      <th>cons.price.idx</th>\n",
       "      <th>cons.conf.idx</th>\n",
       "      <th>euribor3m</th>\n",
       "      <th>nr.employed</th>\n",
       "      <th>y</th>\n",
       "    </tr>\n",
       "  </thead>\n",
       "  <tbody>\n",
       "    <tr>\n",
       "      <th>0</th>\n",
       "      <td>56</td>\n",
       "      <td>housemaid</td>\n",
       "      <td>married</td>\n",
       "      <td>basic.4y</td>\n",
       "      <td>no</td>\n",
       "      <td>no</td>\n",
       "      <td>no</td>\n",
       "      <td>telephone</td>\n",
       "      <td>may</td>\n",
       "      <td>mon</td>\n",
       "      <td>...</td>\n",
       "      <td>1</td>\n",
       "      <td>999</td>\n",
       "      <td>0</td>\n",
       "      <td>nonexistent</td>\n",
       "      <td>1.1</td>\n",
       "      <td>93.994</td>\n",
       "      <td>-36.4</td>\n",
       "      <td>4.857</td>\n",
       "      <td>5191.0</td>\n",
       "      <td>no</td>\n",
       "    </tr>\n",
       "    <tr>\n",
       "      <th>1</th>\n",
       "      <td>57</td>\n",
       "      <td>services</td>\n",
       "      <td>married</td>\n",
       "      <td>high.school</td>\n",
       "      <td>unknown</td>\n",
       "      <td>no</td>\n",
       "      <td>no</td>\n",
       "      <td>telephone</td>\n",
       "      <td>may</td>\n",
       "      <td>mon</td>\n",
       "      <td>...</td>\n",
       "      <td>1</td>\n",
       "      <td>999</td>\n",
       "      <td>0</td>\n",
       "      <td>nonexistent</td>\n",
       "      <td>1.1</td>\n",
       "      <td>93.994</td>\n",
       "      <td>-36.4</td>\n",
       "      <td>4.857</td>\n",
       "      <td>5191.0</td>\n",
       "      <td>no</td>\n",
       "    </tr>\n",
       "    <tr>\n",
       "      <th>2</th>\n",
       "      <td>37</td>\n",
       "      <td>services</td>\n",
       "      <td>married</td>\n",
       "      <td>high.school</td>\n",
       "      <td>no</td>\n",
       "      <td>yes</td>\n",
       "      <td>no</td>\n",
       "      <td>telephone</td>\n",
       "      <td>may</td>\n",
       "      <td>mon</td>\n",
       "      <td>...</td>\n",
       "      <td>1</td>\n",
       "      <td>999</td>\n",
       "      <td>0</td>\n",
       "      <td>nonexistent</td>\n",
       "      <td>1.1</td>\n",
       "      <td>93.994</td>\n",
       "      <td>-36.4</td>\n",
       "      <td>4.857</td>\n",
       "      <td>5191.0</td>\n",
       "      <td>no</td>\n",
       "    </tr>\n",
       "    <tr>\n",
       "      <th>3</th>\n",
       "      <td>40</td>\n",
       "      <td>admin.</td>\n",
       "      <td>married</td>\n",
       "      <td>basic.6y</td>\n",
       "      <td>no</td>\n",
       "      <td>no</td>\n",
       "      <td>no</td>\n",
       "      <td>telephone</td>\n",
       "      <td>may</td>\n",
       "      <td>mon</td>\n",
       "      <td>...</td>\n",
       "      <td>1</td>\n",
       "      <td>999</td>\n",
       "      <td>0</td>\n",
       "      <td>nonexistent</td>\n",
       "      <td>1.1</td>\n",
       "      <td>93.994</td>\n",
       "      <td>-36.4</td>\n",
       "      <td>4.857</td>\n",
       "      <td>5191.0</td>\n",
       "      <td>no</td>\n",
       "    </tr>\n",
       "    <tr>\n",
       "      <th>4</th>\n",
       "      <td>56</td>\n",
       "      <td>services</td>\n",
       "      <td>married</td>\n",
       "      <td>high.school</td>\n",
       "      <td>no</td>\n",
       "      <td>no</td>\n",
       "      <td>yes</td>\n",
       "      <td>telephone</td>\n",
       "      <td>may</td>\n",
       "      <td>mon</td>\n",
       "      <td>...</td>\n",
       "      <td>1</td>\n",
       "      <td>999</td>\n",
       "      <td>0</td>\n",
       "      <td>nonexistent</td>\n",
       "      <td>1.1</td>\n",
       "      <td>93.994</td>\n",
       "      <td>-36.4</td>\n",
       "      <td>4.857</td>\n",
       "      <td>5191.0</td>\n",
       "      <td>no</td>\n",
       "    </tr>\n",
       "  </tbody>\n",
       "</table>\n",
       "<p>5 rows × 21 columns</p>\n",
       "</div>"
      ],
      "text/plain": [
       "   age        job  marital    education  default housing loan    contact  \\\n",
       "0   56  housemaid  married     basic.4y       no      no   no  telephone   \n",
       "1   57   services  married  high.school  unknown      no   no  telephone   \n",
       "2   37   services  married  high.school       no     yes   no  telephone   \n",
       "3   40     admin.  married     basic.6y       no      no   no  telephone   \n",
       "4   56   services  married  high.school       no      no  yes  telephone   \n",
       "\n",
       "  month day_of_week  ...  campaign  pdays  previous     poutcome emp.var.rate  \\\n",
       "0   may         mon  ...         1    999         0  nonexistent          1.1   \n",
       "1   may         mon  ...         1    999         0  nonexistent          1.1   \n",
       "2   may         mon  ...         1    999         0  nonexistent          1.1   \n",
       "3   may         mon  ...         1    999         0  nonexistent          1.1   \n",
       "4   may         mon  ...         1    999         0  nonexistent          1.1   \n",
       "\n",
       "   cons.price.idx  cons.conf.idx  euribor3m  nr.employed   y  \n",
       "0          93.994          -36.4      4.857       5191.0  no  \n",
       "1          93.994          -36.4      4.857       5191.0  no  \n",
       "2          93.994          -36.4      4.857       5191.0  no  \n",
       "3          93.994          -36.4      4.857       5191.0  no  \n",
       "4          93.994          -36.4      4.857       5191.0  no  \n",
       "\n",
       "[5 rows x 21 columns]"
      ]
     },
     "execution_count": 3,
     "metadata": {},
     "output_type": "execute_result"
    }
   ],
   "source": [
    "bank_data.head()"
   ]
  },
  {
   "cell_type": "code",
   "execution_count": 4,
   "id": "T0RV-y8Z-_zn",
   "metadata": {
    "colab": {
     "base_uri": "https://localhost:8080/"
    },
    "id": "T0RV-y8Z-_zn",
    "outputId": "5d7c7935-d695-44d1-c294-37468fff552d"
   },
   "outputs": [
    {
     "name": "stdout",
     "output_type": "stream",
     "text": [
      "<class 'pandas.core.frame.DataFrame'>\n",
      "RangeIndex: 41188 entries, 0 to 41187\n",
      "Data columns (total 21 columns):\n",
      " #   Column          Non-Null Count  Dtype  \n",
      "---  ------          --------------  -----  \n",
      " 0   age             41188 non-null  int64  \n",
      " 1   job             41188 non-null  object \n",
      " 2   marital         41188 non-null  object \n",
      " 3   education       41188 non-null  object \n",
      " 4   default         41188 non-null  object \n",
      " 5   housing         41188 non-null  object \n",
      " 6   loan            41188 non-null  object \n",
      " 7   contact         41188 non-null  object \n",
      " 8   month           41188 non-null  object \n",
      " 9   day_of_week     41188 non-null  object \n",
      " 10  duration        41188 non-null  int64  \n",
      " 11  campaign        41188 non-null  int64  \n",
      " 12  pdays           41188 non-null  int64  \n",
      " 13  previous        41188 non-null  int64  \n",
      " 14  poutcome        41188 non-null  object \n",
      " 15  emp.var.rate    41188 non-null  float64\n",
      " 16  cons.price.idx  41188 non-null  float64\n",
      " 17  cons.conf.idx   41188 non-null  float64\n",
      " 18  euribor3m       41188 non-null  float64\n",
      " 19  nr.employed     41188 non-null  float64\n",
      " 20  y               41188 non-null  object \n",
      "dtypes: float64(5), int64(5), object(11)\n",
      "memory usage: 6.6+ MB\n"
     ]
    }
   ],
   "source": [
    "bank_data.info()"
   ]
  },
  {
   "cell_type": "code",
   "execution_count": 5,
   "id": "Irl7tdk_E5QK",
   "metadata": {
    "id": "Irl7tdk_E5QK"
   },
   "outputs": [],
   "source": [
    "# preprocessing"
   ]
  },
  {
   "cell_type": "code",
   "execution_count": 6,
   "id": "vgEKR-IM-_zr",
   "metadata": {
    "id": "vgEKR-IM-_zr"
   },
   "outputs": [],
   "source": [
    "# Renaming column y to subscribed as it is column explains about term deposit subscription yes or no\n",
    "bank_data.rename(columns = {'y': 'subscribed'}, inplace = True)"
   ]
  },
  {
   "cell_type": "code",
   "execution_count": 7,
   "id": "GwLO3zOa-_zu",
   "metadata": {
    "colab": {
     "base_uri": "https://localhost:8080/"
    },
    "id": "GwLO3zOa-_zu",
    "outputId": "bd0235c8-f097-4322-a67a-473706813a2a"
   },
   "outputs": [
    {
     "name": "stdout",
     "output_type": "stream",
     "text": [
      "job ['housemaid' 'services' 'admin.' 'blue-collar' 'technician' 'retired'\n",
      " 'management' 'unemployed' 'self-employed' 'unknown' 'entrepreneur'\n",
      " 'student']\n",
      "marital ['married' 'single' 'divorced' 'unknown']\n",
      "education ['basic.4y' 'high.school' 'basic.6y' 'basic.9y' 'professional.course'\n",
      " 'unknown' 'university.degree' 'illiterate']\n",
      "default ['no' 'unknown' 'yes']\n",
      "housing ['no' 'yes' 'unknown']\n",
      "loan ['no' 'yes' 'unknown']\n",
      "contact ['telephone' 'cellular']\n",
      "month ['may' 'jun' 'jul' 'aug' 'oct' 'nov' 'dec' 'mar' 'apr' 'sep']\n",
      "day_of_week ['mon' 'tue' 'wed' 'thu' 'fri']\n",
      "poutcome ['nonexistent' 'failure' 'success']\n",
      "subscribed ['no' 'yes']\n"
     ]
    }
   ],
   "source": [
    "categorical_columns = bank_data.select_dtypes(include = object).columns\n",
    "for col in categorical_columns:\n",
    "    print(col,bank_data[col].unique())"
   ]
  },
  {
   "cell_type": "code",
   "execution_count": 8,
   "id": "nnWSXJIv-_z1",
   "metadata": {
    "id": "nnWSXJIv-_z1"
   },
   "outputs": [],
   "source": [
    "from sklearn.preprocessing import LabelEncoder\n",
    "le = LabelEncoder()\n",
    "for col in categorical_columns:\n",
    "    bank_data[col] = le.fit_transform(bank_data[col])"
   ]
  },
  {
   "cell_type": "code",
   "execution_count": 9,
   "id": "x8YarewB3qOi",
   "metadata": {
    "colab": {
     "base_uri": "https://localhost:8080/"
    },
    "id": "x8YarewB3qOi",
    "outputId": "2e1944c7-5e8e-4f73-b90f-b09a68ac9551"
   },
   "outputs": [
    {
     "data": {
      "text/plain": [
       "0    36548\n",
       "1     4640\n",
       "Name: subscribed, dtype: int64"
      ]
     },
     "execution_count": 9,
     "metadata": {},
     "output_type": "execute_result"
    }
   ],
   "source": [
    "bank_data.subscribed.value_counts()"
   ]
  },
  {
   "cell_type": "code",
   "execution_count": 10,
   "id": "WHKu9cvy-_z2",
   "metadata": {
    "colab": {
     "base_uri": "https://localhost:8080/",
     "height": 299
    },
    "id": "WHKu9cvy-_z2",
    "outputId": "b95cc123-a76d-41c6-f312-1d27593cd0e6"
   },
   "outputs": [
    {
     "data": {
      "text/html": [
       "<div>\n",
       "<style scoped>\n",
       "    .dataframe tbody tr th:only-of-type {\n",
       "        vertical-align: middle;\n",
       "    }\n",
       "\n",
       "    .dataframe tbody tr th {\n",
       "        vertical-align: top;\n",
       "    }\n",
       "\n",
       "    .dataframe thead th {\n",
       "        text-align: right;\n",
       "    }\n",
       "</style>\n",
       "<table border=\"1\" class=\"dataframe\">\n",
       "  <thead>\n",
       "    <tr style=\"text-align: right;\">\n",
       "      <th></th>\n",
       "      <th>age</th>\n",
       "      <th>job</th>\n",
       "      <th>marital</th>\n",
       "      <th>education</th>\n",
       "      <th>default</th>\n",
       "      <th>housing</th>\n",
       "      <th>loan</th>\n",
       "      <th>contact</th>\n",
       "      <th>month</th>\n",
       "      <th>day_of_week</th>\n",
       "      <th>...</th>\n",
       "      <th>campaign</th>\n",
       "      <th>pdays</th>\n",
       "      <th>previous</th>\n",
       "      <th>poutcome</th>\n",
       "      <th>emp.var.rate</th>\n",
       "      <th>cons.price.idx</th>\n",
       "      <th>cons.conf.idx</th>\n",
       "      <th>euribor3m</th>\n",
       "      <th>nr.employed</th>\n",
       "      <th>subscribed</th>\n",
       "    </tr>\n",
       "  </thead>\n",
       "  <tbody>\n",
       "    <tr>\n",
       "      <th>0</th>\n",
       "      <td>56</td>\n",
       "      <td>3</td>\n",
       "      <td>1</td>\n",
       "      <td>0</td>\n",
       "      <td>0</td>\n",
       "      <td>0</td>\n",
       "      <td>0</td>\n",
       "      <td>1</td>\n",
       "      <td>6</td>\n",
       "      <td>1</td>\n",
       "      <td>...</td>\n",
       "      <td>1</td>\n",
       "      <td>999</td>\n",
       "      <td>0</td>\n",
       "      <td>1</td>\n",
       "      <td>1.1</td>\n",
       "      <td>93.994</td>\n",
       "      <td>-36.4</td>\n",
       "      <td>4.857</td>\n",
       "      <td>5191.0</td>\n",
       "      <td>0</td>\n",
       "    </tr>\n",
       "    <tr>\n",
       "      <th>1</th>\n",
       "      <td>57</td>\n",
       "      <td>7</td>\n",
       "      <td>1</td>\n",
       "      <td>3</td>\n",
       "      <td>1</td>\n",
       "      <td>0</td>\n",
       "      <td>0</td>\n",
       "      <td>1</td>\n",
       "      <td>6</td>\n",
       "      <td>1</td>\n",
       "      <td>...</td>\n",
       "      <td>1</td>\n",
       "      <td>999</td>\n",
       "      <td>0</td>\n",
       "      <td>1</td>\n",
       "      <td>1.1</td>\n",
       "      <td>93.994</td>\n",
       "      <td>-36.4</td>\n",
       "      <td>4.857</td>\n",
       "      <td>5191.0</td>\n",
       "      <td>0</td>\n",
       "    </tr>\n",
       "    <tr>\n",
       "      <th>2</th>\n",
       "      <td>37</td>\n",
       "      <td>7</td>\n",
       "      <td>1</td>\n",
       "      <td>3</td>\n",
       "      <td>0</td>\n",
       "      <td>2</td>\n",
       "      <td>0</td>\n",
       "      <td>1</td>\n",
       "      <td>6</td>\n",
       "      <td>1</td>\n",
       "      <td>...</td>\n",
       "      <td>1</td>\n",
       "      <td>999</td>\n",
       "      <td>0</td>\n",
       "      <td>1</td>\n",
       "      <td>1.1</td>\n",
       "      <td>93.994</td>\n",
       "      <td>-36.4</td>\n",
       "      <td>4.857</td>\n",
       "      <td>5191.0</td>\n",
       "      <td>0</td>\n",
       "    </tr>\n",
       "    <tr>\n",
       "      <th>3</th>\n",
       "      <td>40</td>\n",
       "      <td>0</td>\n",
       "      <td>1</td>\n",
       "      <td>1</td>\n",
       "      <td>0</td>\n",
       "      <td>0</td>\n",
       "      <td>0</td>\n",
       "      <td>1</td>\n",
       "      <td>6</td>\n",
       "      <td>1</td>\n",
       "      <td>...</td>\n",
       "      <td>1</td>\n",
       "      <td>999</td>\n",
       "      <td>0</td>\n",
       "      <td>1</td>\n",
       "      <td>1.1</td>\n",
       "      <td>93.994</td>\n",
       "      <td>-36.4</td>\n",
       "      <td>4.857</td>\n",
       "      <td>5191.0</td>\n",
       "      <td>0</td>\n",
       "    </tr>\n",
       "    <tr>\n",
       "      <th>4</th>\n",
       "      <td>56</td>\n",
       "      <td>7</td>\n",
       "      <td>1</td>\n",
       "      <td>3</td>\n",
       "      <td>0</td>\n",
       "      <td>0</td>\n",
       "      <td>2</td>\n",
       "      <td>1</td>\n",
       "      <td>6</td>\n",
       "      <td>1</td>\n",
       "      <td>...</td>\n",
       "      <td>1</td>\n",
       "      <td>999</td>\n",
       "      <td>0</td>\n",
       "      <td>1</td>\n",
       "      <td>1.1</td>\n",
       "      <td>93.994</td>\n",
       "      <td>-36.4</td>\n",
       "      <td>4.857</td>\n",
       "      <td>5191.0</td>\n",
       "      <td>0</td>\n",
       "    </tr>\n",
       "  </tbody>\n",
       "</table>\n",
       "<p>5 rows × 21 columns</p>\n",
       "</div>"
      ],
      "text/plain": [
       "   age  job  marital  education  default  housing  loan  contact  month  \\\n",
       "0   56    3        1          0        0        0     0        1      6   \n",
       "1   57    7        1          3        1        0     0        1      6   \n",
       "2   37    7        1          3        0        2     0        1      6   \n",
       "3   40    0        1          1        0        0     0        1      6   \n",
       "4   56    7        1          3        0        0     2        1      6   \n",
       "\n",
       "   day_of_week  ...  campaign  pdays  previous  poutcome  emp.var.rate  \\\n",
       "0            1  ...         1    999         0         1           1.1   \n",
       "1            1  ...         1    999         0         1           1.1   \n",
       "2            1  ...         1    999         0         1           1.1   \n",
       "3            1  ...         1    999         0         1           1.1   \n",
       "4            1  ...         1    999         0         1           1.1   \n",
       "\n",
       "   cons.price.idx  cons.conf.idx  euribor3m  nr.employed  subscribed  \n",
       "0          93.994          -36.4      4.857       5191.0           0  \n",
       "1          93.994          -36.4      4.857       5191.0           0  \n",
       "2          93.994          -36.4      4.857       5191.0           0  \n",
       "3          93.994          -36.4      4.857       5191.0           0  \n",
       "4          93.994          -36.4      4.857       5191.0           0  \n",
       "\n",
       "[5 rows x 21 columns]"
      ]
     },
     "execution_count": 10,
     "metadata": {},
     "output_type": "execute_result"
    }
   ],
   "source": [
    "bank_data.head()"
   ]
  },
  {
   "cell_type": "code",
   "execution_count": 11,
   "id": "5C1bciM9-_z4",
   "metadata": {
    "colab": {
     "base_uri": "https://localhost:8080/"
    },
    "id": "5C1bciM9-_z4",
    "outputId": "9f9671f3-e70f-41f7-8b36-b36015755ee9"
   },
   "outputs": [
    {
     "name": "stdout",
     "output_type": "stream",
     "text": [
      "<class 'pandas.core.frame.DataFrame'>\n",
      "RangeIndex: 41188 entries, 0 to 41187\n",
      "Data columns (total 21 columns):\n",
      " #   Column          Non-Null Count  Dtype  \n",
      "---  ------          --------------  -----  \n",
      " 0   age             41188 non-null  int64  \n",
      " 1   job             41188 non-null  int32  \n",
      " 2   marital         41188 non-null  int32  \n",
      " 3   education       41188 non-null  int32  \n",
      " 4   default         41188 non-null  int32  \n",
      " 5   housing         41188 non-null  int32  \n",
      " 6   loan            41188 non-null  int32  \n",
      " 7   contact         41188 non-null  int32  \n",
      " 8   month           41188 non-null  int32  \n",
      " 9   day_of_week     41188 non-null  int32  \n",
      " 10  duration        41188 non-null  int64  \n",
      " 11  campaign        41188 non-null  int64  \n",
      " 12  pdays           41188 non-null  int64  \n",
      " 13  previous        41188 non-null  int64  \n",
      " 14  poutcome        41188 non-null  int32  \n",
      " 15  emp.var.rate    41188 non-null  float64\n",
      " 16  cons.price.idx  41188 non-null  float64\n",
      " 17  cons.conf.idx   41188 non-null  float64\n",
      " 18  euribor3m       41188 non-null  float64\n",
      " 19  nr.employed     41188 non-null  float64\n",
      " 20  subscribed      41188 non-null  int32  \n",
      "dtypes: float64(5), int32(11), int64(5)\n",
      "memory usage: 4.9 MB\n"
     ]
    }
   ],
   "source": [
    "bank_data.info()"
   ]
  },
  {
   "cell_type": "code",
   "execution_count": 12,
   "id": "Jcew_Wlj-_z4",
   "metadata": {
    "colab": {
     "base_uri": "https://localhost:8080/",
     "height": 501
    },
    "id": "Jcew_Wlj-_z4",
    "outputId": "d2d28017-05cf-4bf8-d6b8-7d9ffcb7c4f0"
   },
   "outputs": [
    {
     "name": "stdout",
     "output_type": "stream",
     "text": [
      "0    36548\n",
      "1     4640\n",
      "Name: subscribed, dtype: int64\n"
     ]
    },
    {
     "data": {
      "image/png": "[encoded data removed]",
      "text/plain": [
       "<Figure size 640x480 with 1 Axes>"
      ]
     },
     "metadata": {},
     "output_type": "display_data"
    }
   ],
   "source": [
    "print(bank_data.subscribed.value_counts())\n",
    "sns.countplot(x = bank_data['subscribed'] )\n",
    "plt.show()"
   ]
  },
  {
   "cell_type": "code",
   "execution_count": 13,
   "id": "q3W6ny4m-_z6",
   "metadata": {
    "id": "q3W6ny4m-_z6"
   },
   "outputs": [],
   "source": [
    "from imblearn.over_sampling import SMOTE\n",
    "# Resampling the data to balance\n",
    "def resample_data(features_data, target_data):\n",
    "  sm = SMOTE(sampling_strategy = 'minority', random_state = 42)\n",
    "\n",
    "  X_resampled, Y_resampled = sm.fit_resample(features_data, target_data)\n",
    "  bank_data_resampled = pd.concat([pd.DataFrame(X_resampled), pd.DataFrame(Y_resampled)], axis = 1)\n",
    "  return bank_data_resampled"
   ]
  },
  {
   "cell_type": "code",
   "execution_count": 14,
   "id": "noW_Z9WW-_z9",
   "metadata": {
    "colab": {
     "base_uri": "https://localhost:8080/"
    },
    "id": "noW_Z9WW-_z9",
    "outputId": "f4c9938f-eb5a-4694-d47f-0f170cf71c27"
   },
   "outputs": [
    {
     "name": "stdout",
     "output_type": "stream",
     "text": [
      "<class 'pandas.core.frame.DataFrame'>\n",
      "RangeIndex: 73096 entries, 0 to 73095\n",
      "Data columns (total 21 columns):\n",
      " #   Column          Non-Null Count  Dtype  \n",
      "---  ------          --------------  -----  \n",
      " 0   age             73096 non-null  int64  \n",
      " 1   job             73096 non-null  int32  \n",
      " 2   marital         73096 non-null  int32  \n",
      " 3   education       73096 non-null  int32  \n",
      " 4   default         73096 non-null  int32  \n",
      " 5   housing         73096 non-null  int32  \n",
      " 6   loan            73096 non-null  int32  \n",
      " 7   contact         73096 non-null  int32  \n",
      " 8   month           73096 non-null  int32  \n",
      " 9   day_of_week     73096 non-null  int32  \n",
      " 10  duration        73096 non-null  int64  \n",
      " 11  campaign        73096 non-null  int64  \n",
      " 12  pdays           73096 non-null  int64  \n",
      " 13  previous        73096 non-null  int64  \n",
      " 14  poutcome        73096 non-null  int32  \n",
      " 15  emp.var.rate    73096 non-null  float64\n",
      " 16  cons.price.idx  73096 non-null  float64\n",
      " 17  cons.conf.idx   73096 non-null  float64\n",
      " 18  euribor3m       73096 non-null  float64\n",
      " 19  nr.employed     73096 non-null  float64\n",
      " 20  subscribed      73096 non-null  int32  \n",
      "dtypes: float64(5), int32(11), int64(5)\n",
      "memory usage: 8.6 MB\n"
     ]
    }
   ],
   "source": [
    "features_data = bank_data.drop('subscribed', axis = 1)\n",
    "target_data = bank_data['subscribed']\n",
    "bank_data_resampled = resample_data(features_data, target_data)\n",
    "bank_data_resampled.info()"
   ]
  },
  {
   "cell_type": "code",
   "execution_count": 15,
   "id": "SQdCXDITeA5j",
   "metadata": {
    "colab": {
     "base_uri": "https://localhost:8080/"
    },
    "id": "SQdCXDITeA5j",
    "outputId": "b036ceab-6572-4e22-b344-1bca646f863e"
   },
   "outputs": [
    {
     "data": {
      "text/plain": [
       "0    36548\n",
       "1    36548\n",
       "Name: subscribed, dtype: int64"
      ]
     },
     "execution_count": 15,
     "metadata": {},
     "output_type": "execute_result"
    }
   ],
   "source": [
    "bank_data_resampled.subscribed.value_counts()"
   ]
  },
  {
   "cell_type": "code",
   "execution_count": 16,
   "id": "N9zLl67n-_z-",
   "metadata": {
    "colab": {
     "base_uri": "https://localhost:8080/",
     "height": 449
    },
    "id": "N9zLl67n-_z-",
    "outputId": "b72e0c1b-d395-4e12-ac78-7deb5f76470f"
   },
   "outputs": [
    {
     "data": {
      "image/png": "[encoded data removed]",
      "text/plain": [
       "<Figure size 640x480 with 1 Axes>"
      ]
     },
     "metadata": {},
     "output_type": "display_data"
    }
   ],
   "source": [
    "sns.countplot(x = bank_data_resampled['subscribed'])\n",
    "plt.show()"
   ]
  },
  {
   "cell_type": "code",
   "execution_count": 17,
   "id": "ILIWZyYa-_z_",
   "metadata": {
    "id": "ILIWZyYa-_z_"
   },
   "outputs": [],
   "source": [
    "### Principle component analysis for features selection"
   ]
  },
  {
   "cell_type": "code",
   "execution_count": 18,
   "id": "SWsBQfABsBP6",
   "metadata": {
    "id": "SWsBQfABsBP6"
   },
   "outputs": [],
   "source": [
    "def scale_data(data_before_scaling):\n",
    "  ''' scaling data '''\n",
    "  ss = StandardScaler()\n",
    "  scaled_data = ss.fit_transform(data_before_scaling)\n",
    "  return scaled_data"
   ]
  },
  {
   "cell_type": "code",
   "execution_count": 19,
   "id": "ZpuUCjS4rtM8",
   "metadata": {
    "id": "ZpuUCjS4rtM8"
   },
   "outputs": [],
   "source": [
    "def principle_components(data, variance):\n",
    "  ''' finding priciple components of data for a variance'''\n",
    "  scaled_data = scale_data(data.values)\n",
    "  pca = PCA(n_components = variance)\n",
    "  principle_components = pca.fit_transform(scaled_data)\n",
    "  principle_components_df = pd.DataFrame(data = principle_components)\n",
    "  principle_components_df.columns = principle_components_df.columns.astype(str)\n",
    "  plt.plot(pca.explained_variance_, marker='*')\n",
    "  plt.xlabel(\"Eigenvalue number\")\n",
    "  plt.ylabel(\"Eigenvalue size\")\n",
    "  plt.title(\"Scree Plot\")\n",
    "  plt.show()\n",
    "\n",
    "  return principle_components_df"
   ]
  },
  {
   "cell_type": "code",
   "execution_count": 20,
   "id": "7W-25at9vIkD",
   "metadata": {
    "colab": {
     "base_uri": "https://localhost:8080/",
     "height": 489
    },
    "id": "7W-25at9vIkD",
    "outputId": "e32586f0-8f70-42bc-e9d3-1455405931d0"
   },
   "outputs": [
    {
     "data": {
      "image/png": "[encoded data removed]",
      "text/plain": [
       "<Figure size 640x480 with 1 Axes>"
      ]
     },
     "metadata": {},
     "output_type": "display_data"
    },
    {
     "data": {
      "text/plain": [
       "(73096, 13)"
      ]
     },
     "execution_count": 20,
     "metadata": {},
     "output_type": "execute_result"
    }
   ],
   "source": [
    "features_data = bank_data_resampled.drop(columns = 'subscribed', axis = 0)\n",
    "target_data = bank_data_resampled['subscribed']\n",
    "principle_components_df = principle_components(features_data, 0.85)\n",
    "principle_components_df.shape"
   ]
  },
  {
   "cell_type": "code",
   "execution_count": 21,
   "id": "tKRC8Gsk-_0J",
   "metadata": {
    "id": "tKRC8Gsk-_0J"
   },
   "outputs": [],
   "source": [
    "def model_score(target_values, predicted_values):\n",
    "  cm = confusion_matrix(target_values, predicted_values)\n",
    "  print(\"recall score = \", 100 * recall_score(target_values, predicted_values))\n",
    "  print(\"precision score\", 100 * precision_score(target_values, predicted_values))\n",
    "  print(\"f1 score\", 100 *f1_score(target_values, predicted_values))\n",
    "  fig, ax = plt.subplots(figsize=(3, 3))\n",
    "  ax.matshow(cm, cmap=plt.cm.Blues, alpha=0.3)\n",
    "  for i in range(cm.shape[0]):\n",
    "       for j in range(cm.shape[1]):\n",
    "           ax.text(x=j, y=i,s=cm[i, j], va='center', ha='center', size='xx-large')\n",
    "\n",
    "  plt.xlabel('Predictions', fontsize = 12)\n",
    "  plt.ylabel('Actuals', fontsize = 12)\n",
    "  plt.title('Confusion Matrix', fontsize = 12)\n",
    "  plt.show()\n"
   ]
  },
  {
   "cell_type": "code",
   "execution_count": 22,
   "id": "K_RwN1Vr-_0G",
   "metadata": {
    "colab": {
     "base_uri": "https://localhost:8080/"
    },
    "id": "K_RwN1Vr-_0G",
    "outputId": "c423ece8-90e7-45aa-82ee-e56c022a6e0c"
   },
   "outputs": [
    {
     "name": "stdout",
     "output_type": "stream",
     "text": [
      "(51167, 13) (21929, 13)\n",
      "(51167,) (21929,)\n"
     ]
    }
   ],
   "source": [
    "X_train, X_test, y_train, y_test = train_test_split( principle_components_df, target_data, test_size = 0.3, random_state=0)\n",
    "\n",
    "print(X_train.shape, X_test.shape)\n",
    "print(y_train.shape, y_test.shape)"
   ]
  },
  {
   "cell_type": "code",
   "execution_count": 23,
   "id": "BLpc00bq4uKc",
   "metadata": {
    "id": "BLpc00bq4uKc"
   },
   "outputs": [],
   "source": [
    "def logistc_regression(X_train, y_train):\n",
    "  model = LogisticRegression()\n",
    "  solvers = ['newton-cg', 'lbfgs', 'liblinear']\n",
    "  penalty = ['l2']\n",
    "  c = [100, 10, 1.0, 0.1, 0.01]\n",
    "\n",
    "  grid = dict(solver=solvers,penalty=penalty, C = c)\n",
    "  cv = RepeatedStratifiedKFold(n_splits=10, n_repeats=3, random_state=1)\n",
    "  grid_search = GridSearchCV(estimator=model, param_grid=grid, n_jobs=-1, cv=cv, scoring='accuracy',error_score=0)\n",
    "  grid_result = grid_search.fit(X_train, y_train)\n",
    "\n",
    "  return grid_result.best_score_, grid_result.best_params_"
   ]
  },
  {
   "cell_type": "code",
   "execution_count": 24,
   "id": "OjEB8V0V5d_q",
   "metadata": {
    "id": "OjEB8V0V5d_q"
   },
   "outputs": [],
   "source": [
    "best_score, best_params = logistc_regression(X_train, y_train)"
   ]
  },
  {
   "cell_type": "code",
   "execution_count": 25,
   "id": "T1C7zY_86Dnd",
   "metadata": {
    "colab": {
     "base_uri": "https://localhost:8080/"
    },
    "id": "T1C7zY_86Dnd",
    "outputId": "9dbb3f02-4ad4-4054-b87f-5e16daf3c030"
   },
   "outputs": [
    {
     "name": "stdout",
     "output_type": "stream",
     "text": [
      "0.8617012901493125 {'C': 100, 'penalty': 'l2', 'solver': 'liblinear'}\n"
     ]
    }
   ],
   "source": [
    "print(best_score, best_params)"
   ]
  },
  {
   "cell_type": "code",
   "execution_count": 26,
   "id": "6Bp9SGw75wsU",
   "metadata": {
    "colab": {
     "base_uri": "https://localhost:8080/",
     "height": 394
    },
    "id": "6Bp9SGw75wsU",
    "outputId": "be8dd8b0-c405-4431-d96f-307912aecaaf"
   },
   "outputs": [
    {
     "name": "stdout",
     "output_type": "stream",
     "text": [
      "recall score =  87.66257225433526\n",
      "precision score 85.73447575302535\n",
      "f1 score 86.68780422453446\n"
     ]
    },
    {
     "data": {
      "image/png": "[encoded data removed]",
      "text/plain": [
       "<Figure size 300x300 with 1 Axes>"
      ]
     },
     "metadata": {},
     "output_type": "display_data"
    }
   ],
   "source": [
    "model_lr = LogisticRegression (C = 100, penalty = 'l2', solver ='liblinear')\n",
    "model_lr.fit(X_train, y_train)\n",
    "y_predicted = model_lr.predict(X_test)\n",
    "model_score(y_test, y_predicted)"
   ]
  },
  {
   "cell_type": "code",
   "execution_count": 31,
   "id": "0MH_OB8H-_0J",
   "metadata": {
    "id": "0MH_OB8H-_0J"
   },
   "outputs": [],
   "source": [
    "def knn_hyperparameter_tuning(X_train, y_train, X_test, y_test):\n",
    "  best_score = 0.0\n",
    "  best_k = -1\n",
    "  for k in range(4, 20):\n",
    "      knn_classifier = KNeighborsClassifier(n_neighbors = k)\n",
    "      knn_classifier.fit(X_train, y_train)\n",
    "      score = knn_classifier.score(X_test, y_test)\n",
    "      if score > best_score:\n",
    "          best_k = k\n",
    "          best_score = score\n",
    "  print(\"Best Score\", best_score, \"Best k \", best_k )\n",
    "  return best_k, best_score, knn_classifier"
   ]
  },
  {
   "cell_type": "code",
   "execution_count": 32,
   "id": "XEUVJi6JAc65",
   "metadata": {
    "colab": {
     "base_uri": "https://localhost:8080/"
    },
    "id": "XEUVJi6JAc65",
    "outputId": "da2c489e-e2d1-4362-ee64-3866f02c76fc"
   },
   "outputs": [
    {
     "name": "stdout",
     "output_type": "stream",
     "text": [
      "Best Score 0.9145423867937434 Best k  5\n"
     ]
    }
   ],
   "source": [
    "best_k_value, best_score, knn_classifier = knn_hyperparameter_tuning(X_train, y_train, X_test, y_test)"
   ]
  },
  {
   "cell_type": "code",
   "execution_count": 33,
   "id": "gidZ3a1J-_0K",
   "metadata": {
    "colab": {
     "base_uri": "https://localhost:8080/",
     "height": 394
    },
    "id": "gidZ3a1J-_0K",
    "outputId": "9dbf9991-9c08-40d5-f09f-f87d24a7ce29"
   },
   "outputs": [
    {
     "name": "stdout",
     "output_type": "stream",
     "text": [
      "recall score =  92.41329479768787\n",
      "precision score 88.77320839840361\n",
      "f1 score 90.55668643242765\n"
     ]
    },
    {
     "data": {
      "image/png": "[encoded data removed]",
      "text/plain": [
       "<Figure size 300x300 with 1 Axes>"
      ]
     },
     "metadata": {},
     "output_type": "display_data"
    }
   ],
   "source": [
    "knn_classifier.fit(X_train, y_train)\n",
    "y_predicted = knn_classifier.predict(X_test)\n",
    "model_score(y_test, y_predicted)"
   ]
  },
  {
   "cell_type": "code",
   "execution_count": 34,
   "id": "eQ1CnwoO-_0K",
   "metadata": {
    "id": "eQ1CnwoO-_0K"
   },
   "outputs": [],
   "source": [
    "#extratree classifier feature selection technique"
   ]
  },
  {
   "cell_type": "code",
   "execution_count": 35,
   "id": "4ZcOMEcr-_0M",
   "metadata": {
    "id": "4ZcOMEcr-_0M"
   },
   "outputs": [],
   "source": [
    "def Extratree_feature_selection(features_data, target_data, k_best_features):\n",
    "  ''' Feature selection using extra tree classifier algorithm for tree based classifiers'''\n",
    "  model = ExtraTreesClassifier()\n",
    "  model.fit(features_data, target_data)\n",
    "  print(model.feature_importances_) #use inbuilt class feature_importances of tree based classifiers\n",
    "  #plot graph of feature importances for better visualization\n",
    "  feat_importances = pd.Series(model.feature_importances_, index = features_data.columns)\n",
    "  feat_importances.nlargest(k_best_features).plot(kind='barh')\n",
    "  plt.show()\n",
    "  return feat_importances.nlargest(k_best_features).keys()"
   ]
  },
  {
   "cell_type": "code",
   "execution_count": 36,
   "id": "X96I5AtID9V9",
   "metadata": {
    "colab": {
     "base_uri": "https://localhost:8080/",
     "height": 569
    },
    "id": "X96I5AtID9V9",
    "outputId": "89388e3e-9fb2-437e-a9cb-dcc97b738b63"
   },
   "outputs": [
    {
     "name": "stdout",
     "output_type": "stream",
     "text": [
      "[0.038568   0.03106665 0.01900782 0.03273974 0.03191436 0.04717766\n",
      " 0.02947906 0.05843569 0.03919295 0.03006622 0.23041607 0.02687861\n",
      " 0.02674961 0.02067479 0.02015676 0.038157   0.04115013 0.0480185\n",
      " 0.12023746 0.06991292]\n"
     ]
    },
    {
     "data": {
      "image/png": "[encoded data removed]",
      "text/plain": [
       "<Figure size 640x480 with 1 Axes>"
      ]
     },
     "metadata": {},
     "output_type": "display_data"
    },
    {
     "name": "stdout",
     "output_type": "stream",
     "text": [
      "Index(['duration', 'euribor3m', 'nr.employed', 'contact', 'cons.conf.idx',\n",
      "       'housing', 'cons.price.idx', 'month', 'age', 'emp.var.rate',\n",
      "       'education', 'default'],\n",
      "      dtype='object')\n"
     ]
    }
   ],
   "source": [
    "best_features = Extratree_feature_selection(features_data, target_data, 12)\n",
    "print(best_features)"
   ]
  },
  {
   "cell_type": "code",
   "execution_count": 37,
   "id": "kS9upQe3-_0W",
   "metadata": {
    "colab": {
     "base_uri": "https://localhost:8080/"
    },
    "id": "kS9upQe3-_0W",
    "outputId": "a8de6d01-6a52-4996-e051-5916f545560c"
   },
   "outputs": [
    {
     "name": "stdout",
     "output_type": "stream",
     "text": [
      "(51167, 12) (21929, 12)\n",
      "(51167,) (21929,)\n"
     ]
    }
   ],
   "source": [
    "X_train, X_test, y_train, y_test = train_test_split( bank_data_resampled[best_features],\n",
    "                                                    bank_data_resampled.subscribed, test_size = 0.3, random_state=0)\n",
    "\n",
    "print(X_train.shape, X_test.shape)\n",
    "print(y_train.shape, y_test.shape)"
   ]
  },
  {
   "cell_type": "code",
   "execution_count": 38,
   "id": "Ne9fr_xd3OTP",
   "metadata": {
    "id": "Ne9fr_xd3OTP"
   },
   "outputs": [],
   "source": [
    "def decision_tree_classifier(features, target):\n",
    "  ''' parameter tuning for decision tree classifier'''\n",
    "  param = {\n",
    "      'criterion': ['gini', 'entropy'],\n",
    "      'max_depth':[5,7,10,15,18],\n",
    "      'min_samples_leaf':[3,5,10,15,20],\n",
    "      'min_samples_split':[8,10,12,18,20,16]\n",
    "  }\n",
    "  grid_dt = GridSearchCV(DecisionTreeClassifier(), param_grid = param, cv = 6)\n",
    "  grid_dt.fit(features, target)\n",
    "  return grid_dt.best_params_, grid_dt.best_score_"
   ]
  },
  {
   "cell_type": "code",
   "execution_count": 39,
   "id": "8RUPHx6Zqj7D",
   "metadata": {
    "colab": {
     "base_uri": "https://localhost:8080/"
    },
    "id": "8RUPHx6Zqj7D",
    "outputId": "89553385-6af5-41f7-c834-7570bbb09718"
   },
   "outputs": [
    {
     "name": "stdout",
     "output_type": "stream",
     "text": [
      "Best score 0.9203197795796055 Best parameters {'criterion': 'entropy', 'max_depth': 18, 'min_samples_leaf': 3, 'min_samples_split': 8}\n"
     ]
    }
   ],
   "source": [
    "best_params, best_score = decision_tree_classifier(X_train, y_train)\n",
    "print(\"Best score\", best_score, \"Best parameters\", best_params)"
   ]
  },
  {
   "cell_type": "code",
   "execution_count": 43,
   "id": "9oNhsxrv-_0X",
   "metadata": {
    "colab": {
     "base_uri": "https://localhost:8080/",
     "height": 394
    },
    "id": "9oNhsxrv-_0X",
    "outputId": "aefcd28c-fee0-4a8f-c77e-540d07a477ca"
   },
   "outputs": [
    {
     "name": "stdout",
     "output_type": "stream",
     "text": [
      "recall score =  92.54877167630057\n",
      "precision score 91.63834734394563\n",
      "f1 score 92.09130942751864\n"
     ]
    },
    {
     "data": {
      "image/png": "[encoded data removed]",
      "text/plain": [
       "<Figure size 300x300 with 1 Axes>"
      ]
     },
     "metadata": {},
     "output_type": "display_data"
    }
   ],
   "source": [
    "dt_model = DecisionTreeClassifier(criterion = 'entropy', max_depth = 18, min_samples_split =  8, min_samples_leaf =  3)\n",
    "dt_model.fit(X_train, y_train)\n",
    "y_predicted = dt_model.predict(X_test)\n",
    "model_score(y_test, y_predicted)"
   ]
  },
  {
   "cell_type": "code",
   "execution_count": 41,
   "id": "5QaHakZP5_H7",
   "metadata": {
    "id": "5QaHakZP5_H7"
   },
   "outputs": [],
   "source": [
    "def random_forest_classifier(features, target):\n",
    "  ''' parameter tuning for Random Forest classifier'''\n",
    "  param_grid = {\n",
    "      'n_estimators': [25, 50, 100, 150],\n",
    "      'max_features': ['sqrt', 'log2'],\n",
    "      'max_depth': [ 6, 9, 12, 15 ],\n",
    "      'criterion':['entropy', 'gini']\n",
    "\n",
    "  }\n",
    "  grid_rf = GridSearchCV(RandomForestClassifier(),\n",
    "                            param_grid = param_grid, cv = 5 )\n",
    "  grid_rf.fit(features, target)\n",
    "  return grid_rf.best_params_, grid_rf.best_score_"
   ]
  },
  {
   "cell_type": "code",
   "execution_count": 42,
   "id": "NBJxQA-TER7p",
   "metadata": {
    "colab": {
     "base_uri": "https://localhost:8080/"
    },
    "id": "NBJxQA-TER7p",
    "outputId": "2ad0ac5d-c45d-4f18-ecd3-9fbda9922b38"
   },
   "outputs": [
    {
     "name": "stdout",
     "output_type": "stream",
     "text": [
      "best score 0.9378505064935986 best parameters {'criterion': 'gini', 'max_depth': 15, 'max_features': 'sqrt', 'n_estimators': 100}\n"
     ]
    }
   ],
   "source": [
    "best_parameters, best_score = random_forest_classifier(X_train, y_train)\n",
    "print(\"best score\", best_score, \"best parameters\", best_parameters)"
   ]
  },
  {
   "cell_type": "code",
   "execution_count": 44,
   "id": "MOk7aVmk-_0X",
   "metadata": {
    "colab": {
     "base_uri": "https://localhost:8080/",
     "height": 394
    },
    "id": "MOk7aVmk-_0X",
    "outputId": "c0534604-aaa6-440a-874d-d84b5ca3d797"
   },
   "outputs": [
    {
     "name": "stdout",
     "output_type": "stream",
     "text": [
      "recall score =  96.59501445086705\n",
      "precision score 91.78681771369722\n",
      "f1 score 94.12955465587045\n"
     ]
    },
    {
     "data": {
      "image/png": "[encoded data removed]",
      "text/plain": [
       "<Figure size 300x300 with 1 Axes>"
      ]
     },
     "metadata": {},
     "output_type": "display_data"
    }
   ],
   "source": [
    "rf_model = RandomForestClassifier(criterion = 'gini', max_depth = 15, n_estimators = 100, max_features = 'sqrt', )\n",
    "rf_model.fit(X_train, y_train)\n",
    "y_predicted = rf_model.predict(X_test)\n",
    "model_score(y_test, y_predicted)"
   ]
  },
  {
   "cell_type": "code",
   "execution_count": null,
   "id": "UsTwqpqcUNKv",
   "metadata": {
    "id": "UsTwqpqcUNKv"
   },
   "outputs": [],
   "source": []
  }
 ],
 "metadata": {
  "colab": {
   "collapsed_sections": [
    "ijTvjvxmUN5r"
   ],
   "provenance": []
  },
  "kernelspec": {
   "display_name": "Python 3 (ipykernel)",
   "language": "python",
   "name": "python3"
  },
  "language_info": {
   "codemirror_mode": {
    "name": "ipython",
    "version": 3
   },
   "file_extension": ".py",
   "mimetype": "text/x-python",
   "name": "python",
   "nbconvert_exporter": "python",
   "pygments_lexer": "ipython3",
   "version": "3.10.9"
  }
 },
 "nbformat": 4,
 "nbformat_minor": 5
}
